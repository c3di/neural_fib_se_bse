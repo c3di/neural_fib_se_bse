{
 "cells": [
  {
   "cell_type": "code",
   "execution_count": 1,
   "metadata": {},
   "outputs": [],
   "source": [
    "%reload_ext autoreload\n",
    "%autoreload 2\n",
    "%matplotlib inline"
   ]
  },
  {
   "cell_type": "markdown",
   "metadata": {},
   "source": [
    "# Difference between BSE and SE images"
   ]
  },
  {
   "cell_type": "code",
   "execution_count": 6,
   "metadata": {},
   "outputs": [
    {
     "name": "stdout",
     "output_type": "stream",
     "text": [
      "average ratio of std dev 1.691678199401348\n"
     ]
    }
   ],
   "source": [
    "import pathlib\n",
    "import PIL \n",
    "import numpy\n",
    "from fastai.vision.all import *\n",
    "\n",
    "input_path = Path('./data')\n",
    "\n",
    "def get_items(input_path, file_type):\n",
    "    file_names = get_image_files(input_path)\n",
    "    file_names = [filename for filename in file_names if file_type in str( filename ) ]\n",
    "    return file_names\n",
    "\n",
    "def statistics( filename ):\n",
    "    with PIL.Image.open(filename) as image:\n",
    "        data = numpy.array( image )\n",
    "        return ( numpy.average(data), numpy.std(data) )\n",
    "\n",
    "file_names = get_items(input_path, \"_bse\")    \n",
    "\n",
    "accumulated = []\n",
    "\n",
    "for bse_filename in file_names:\n",
    "    bse_filename = str(bse_filename)\n",
    "    bse_avg,bse_std = statistics(bse_filename)\n",
    "    se_filename = bse_filename.replace(\"_bse\", \"_se\")\n",
    "    se_avg,se_std = statistics(se_filename)\n",
    "    # print( bse_filename )    \n",
    "    # print( \"bse avg\", bse_avg, \"bse std\", bse_std, \"se avg\", se_avg, \"se std\", se_std )    \n",
    "    std_ratio = bse_std / se_std\n",
    "    accumulated = accumulated + std_ratio\n",
    "    \n",
    "accumulated = accumulated / len(file_names)\n",
    "    \n",
    "print( \"average ratio of std dev\", std_ratio )    \n"
   ]
  },
  {
   "cell_type": "markdown",
   "metadata": {},
   "source": [
    "## Noise level in BSE images"
   ]
  },
  {
   "cell_type": "code",
   "execution_count": 14,
   "metadata": {},
   "outputs": [
    {
     "name": "stdout",
     "output_type": "stream",
     "text": [
      "all bse std 13.260512933774717\n",
      "all  se std 10.463907502565428\n",
      "all bse SNR 9.652718611961244\n",
      "all  se SNR 12.23252403259665\n"
     ]
    }
   ],
   "source": [
    "from scipy import ndimage\n",
    "\n",
    "input_path = Path('./data')\n",
    "\n",
    "all_bse_mean = 0.0\n",
    "all_se_mean = 0.0\n",
    "\n",
    "all_bse_std = 0.0\n",
    "all_se_std = 0.0\n",
    "\n",
    "n_items = 0\n",
    "\n",
    "file_names = get_items(input_path, \"_bse\")\n",
    "for bse_filename in file_names:\n",
    "    bse_filename = str(bse_filename)\n",
    "    se_filename = bse_filename.replace(\"_bse\", \"_se\")\n",
    "    gt_filename = bse_filename.replace(\"_bse\", \"_gt\")\n",
    "    # print(bse_filename, gt_filename)\n",
    "    \n",
    "    with PIL.Image.open(gt_filename) as gt_image:\n",
    "         with PIL.Image.open(bse_filename) as bse_image:\n",
    "             with PIL.Image.open(se_filename) as se_image:\n",
    "                gt_data  = numpy.array( gt_image )                \n",
    "                gt_data = ndimage.binary_erosion( gt_data, iterations=3 )                \n",
    "                bse_data = numpy.array( bse_image )\n",
    "                se_data  = numpy.array( se_image )\n",
    "                masked_bse = bse_data[ gt_data == 1 ]\n",
    "                masked_se  =  se_data[ gt_data == 1 ]\n",
    "                all_bse_std = all_bse_std + numpy.std(masked_bse)\n",
    "                all_se_std  = all_se_std + numpy.std(masked_se)\n",
    "                \n",
    "                all_bse_mean = all_bse_mean + numpy.mean( bse_image )\n",
    "                all_se_mean = all_se_mean + numpy.mean( se_image )\n",
    "                n_items = n_items + 1\n",
    "            \n",
    "all_bse_std = all_bse_std / float(n_items)\n",
    "all_se_std = all_se_std / float(n_items)           \n",
    "all_bse_mean = all_bse_mean / float(n_items)\n",
    "all_se_mean = all_se_mean / float(n_items)\n",
    "\n",
    "print(\"all bse std\", all_bse_std)\n",
    "print(\"all  se std\", all_se_std)\n",
    "\n",
    "print(\"all bse SNR\", 128.0 / all_bse_std)\n",
    "print(\"all  se SNR\", 128.0 / all_se_std)"
   ]
  }
 ],
 "metadata": {
  "kernelspec": {
   "display_name": "Python 3 (ipykernel)",
   "language": "python",
   "name": "python3"
  },
  "language_info": {
   "codemirror_mode": {
    "name": "ipython",
    "version": 3
   },
   "file_extension": ".py",
   "mimetype": "text/x-python",
   "name": "python",
   "nbconvert_exporter": "python",
   "pygments_lexer": "ipython3",
   "version": "3.9.15"
  }
 },
 "nbformat": 4,
 "nbformat_minor": 2
}
