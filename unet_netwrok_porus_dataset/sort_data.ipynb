{
 "cells": [
  {
   "attachments": {},
   "cell_type": "markdown",
   "metadata": {},
   "source": [
    "### Import the pacakges"
   ]
  },
  {
   "cell_type": "code",
   "execution_count": 14,
   "metadata": {},
   "outputs": [],
   "source": [
    "from fastai.vision.all import * \n",
    "import tifffile as tiff"
   ]
  },
  {
   "attachments": {},
   "cell_type": "markdown",
   "metadata": {},
   "source": [
    "### Define the source directory for the raw data"
   ]
  },
  {
   "cell_type": "code",
   "execution_count": 15,
   "metadata": {},
   "outputs": [],
   "source": [
    "# Replace with your raw data folder \n",
    "src = 'C:/Users/susa03/Documents/Post_project/Dataset/data'"
   ]
  },
  {
   "attachments": {},
   "cell_type": "markdown",
   "metadata": {},
   "source": [
    "### Define the destination directory and then create two subfolders for images and masks to store"
   ]
  },
  {
   "cell_type": "code",
   "execution_count": 16,
   "metadata": {},
   "outputs": [
    {
     "name": "stdout",
     "output_type": "stream",
     "text": [
      "Image path: C:/Users/susa03/Documents/Post_project/Dataset\\images\n",
      "Mask path: C:/Users/susa03/Documents/Post_project/Dataset\\masks\n"
     ]
    }
   ],
   "source": [
    "dst = 'C:/Users/susa03/Documents/Post_project/Dataset'\n",
    "images = 'images'   ### Hyperstack 7 channels (bse_en0, bse_en1,bse_ex0,bse_x1, normal map) into one iamge\n",
    "masks = 'masks'     ### Store ground truth image\n",
    "os.makedirs(os.path.join(dst,images), exist_ok=True)  # create destination folder if not exists\n",
    "os.makedirs(os.path.join(dst,masks), exist_ok=True)  # create destination folder if not exists\n",
    "\n",
    "# Get the full path of the created directory\n",
    "image_path = os.path.join(dst, images)\n",
    "print(\"Image path:\", image_path)\n",
    "\n",
    "masks_path = os.path.join(dst, masks)\n",
    "print(\"Mask path:\", masks_path)\n"
   ]
  },
  {
   "attachments": {},
   "cell_type": "markdown",
   "metadata": {},
   "source": [
    "### Assess the image files and define the image height and width accordingly"
   ]
  },
  {
   "cell_type": "code",
   "execution_count": 17,
   "metadata": {},
   "outputs": [],
   "source": [
    "image_files = get_image_files(src)\n",
    "file_count = len(image_files)\n",
    "digit_count = len(str(file_count))\n",
    "image_height = 850\n",
    "image_width = 850\n"
   ]
  },
  {
   "attachments": {},
   "cell_type": "markdown",
   "metadata": {},
   "source": [
    "### Define teh fuctions to assess each images category wise and then store as hyperstack for the images in the image subfolder and the respective mask in the mask folder"
   ]
  },
  {
   "cell_type": "code",
   "execution_count": 18,
   "metadata": {},
   "outputs": [],
   "source": [
    "def return_cat(filename:str,category:str):\n",
    "    value = str(category) in str(filename)\n",
    "    return value\n",
    "   \n",
    "def make_category_list(filenames):\n",
    " \n",
    "    # Iterate over the images in groups of 8\n",
    "    group_size = 8\n",
    "    count = 0\n",
    "    for i in range(0, len(image_files), group_size):\n",
    "        image_group = image_files[i:i+group_size]\n",
    "        current_image= np.zeros((image_height, image_width,7)) \n",
    "        current_mask = np.zeros((image_height, image_width,1)) \n",
    "    \n",
    "        # Process the current group of images\n",
    "        for file in image_group:\n",
    "            if return_cat(file,category='entry_hf_0'):\n",
    "                current_image_address = os.path.join(src,file)\n",
    "                bse_en0 = tiff.imread(current_image_address)\n",
    "                current_image[:,:,0] = bse_en0\n",
    "                #print(f'debug:bse_en0.shape{bse_en0.shape}')\n",
    "            elif return_cat(file,category='entry_hf_1'):\n",
    "                current_image_address = os.path.join(src,file)\n",
    "                bse_en1 = tiff.imread(current_image_address)\n",
    "                current_image[:,:,1] = bse_en1\n",
    "                #print(f'debug:bse_en1.shape{bse_en1.shape}')\n",
    "            elif return_cat(file,category='exit_hf_0'):\n",
    "                current_image_address = os.path.join(src,file)\n",
    "                bse_ex0 = tiff.imread(current_image_address)\n",
    "                current_image[:,:,2] = bse_ex0\n",
    "                #print(f'debug:bse_ex0.shape{bse_ex0.shape}')\n",
    "            elif return_cat(file,category='exit_hf_1'):\n",
    "                current_image_address = os.path.join(src,file)\n",
    "                bse_ex1 = tiff.imread(current_image_address)\n",
    "                current_image[:,:,3] = bse_ex1\n",
    "                #print(f'debug:bse_ex1.shape{bse_ex1.shape}')\n",
    "            elif return_cat(file,category='normal'):\n",
    "                current_image_address = os.path.join(src,file)\n",
    "                normal = tiff.imread(current_image_address)\n",
    "                current_image[:,:,4:7] = normal\n",
    "                #print(f'debug:normal.shape{normal.shape}')\n",
    "            elif return_cat(file,category='gt'):\n",
    "                current_mask_address = os.path.join(src,file)\n",
    "                current_mask = tiff.imread(current_mask_address)\n",
    "                count = count + 1\n"
    "            else: pass\n",
    "\n",
    "        current_image = current_image.astype(np.uint8)\n",
    "        #print(current_image.shape)\n",
    "        current_image_name = image_path + '\\\\' + f\"{count:0{digit_count}d}.tif\"         \n",
    "        tiff.imwrite(current_image_name, np.transpose(current_image,(2,0,1)))\n",
    "\n",
    "        current_mask = current_mask.astype(np.uint8)\n",
    "        #print(current_mask.shape)\n",
    "        current_mask_name = masks_path + '\\\\' + f\"{count:0{digit_count}d}.tif\"          \n",
    "        tiff.imwrite(current_mask_name,current_mask)\n",
    "\n",
    "make_category_list(image_files)"
   ]
  }
 ],
 "metadata": {
  "kernelspec": {
   "display_name": "env",
   "language": "python",
   "name": "python3"
  },
  "language_info": {
   "codemirror_mode": {
    "name": "ipython",
    "version": 3
   },
   "file_extension": ".py",
   "mimetype": "text/x-python",
   "name": "python",
   "nbconvert_exporter": "python",
   "pygments_lexer": "ipython3",
   "version": "3.10.11"
  },
  "orig_nbformat": 4
 },
 "nbformat": 4,
 "nbformat_minor": 2
}
