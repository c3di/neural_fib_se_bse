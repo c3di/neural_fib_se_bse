{
 "cells": [
  {
   "cell_type": "code",
   "execution_count": null,
   "metadata": {},
   "outputs": [],
   "source": [
    "from fastai.vision.all import * \n",
    "import os\n",
    "import tifffile as tiff"
   ]
  },
  {
   "cell_type": "code",
   "execution_count": null,
   "metadata": {},
   "outputs": [],
   "source": [
    "#Replace with the raw data directory\n",
    "src = '/home/susa03/post_project/raw_data'\n",
    "images = 'images'   ### Hyperstack 7 channels (bse_en0, bse_en1,bse_ex0,bse_x1, normal map) into one iamge\n",
    "masks = 'masks'     ### Store ground truth image"
   ]
  },
  {
   "cell_type": "code",
   "execution_count": null,
   "metadata": {},
   "outputs": [],
   "source": [
    "#Replace with the arrange data directory\n",
    "#dst = '/home/susa03/post_project/data_arrange/Cylinder'\n",
    "dst = '/home/susa03/post_project/data_arrange/Sphere'\n",
    "os.makedirs(os.path.join(dst,images), exist_ok=True)  # create destination folder if not exists\n",
    "os.makedirs(os.path.join(dst,masks), exist_ok=True)  # create destination folder if not exists\n",
    "\n",
    "# Get the full path of the created directory\n",
    "image_path = os.path.join(dst, images)\n",
    "masks_path = os.path.join(dst, masks)"
   ]
  },
  {
   "cell_type": "code",
   "execution_count": null,
   "metadata": {},
   "outputs": [],
   "source": [
    "image_files = get_image_files(src)\n",
    "image_height = 850\n",
    "image_width = 850"
   ]
  },
  {
   "cell_type": "code",
   "execution_count": null,
   "metadata": {},
   "outputs": [],
   "source": [
    "def return_cat(filename:str,category:str):\n",
    "    value = str(category) in str(filename)\n",
    "    return value\n",
    "\n",
    "def make_category_list(filenames):\n",
    " \n",
    "    # Iterate over the images in groups of 8\n",
    "    group_size = 8\n",
    "    for i in range(0, len(image_files), group_size):\n",
    "        image_group = image_files[i:i+group_size]\n",
    "        current_image= np.zeros((image_height, image_width,7)) \n",
    "        current_mask = np.zeros((image_height, image_width,1)) \n",
    "    \n",
    "        # Process the current group of images\n",
    "        for file in image_group:\n",
    "            if return_cat(file,category='entry_hf_0'):\n",
    "                current_image_address = os.path.join(src,file)\n",
    "                bse_en0 = tiff.imread(current_image_address)\n",
    "                current_image[:,:,0] = bse_en0\n",
    "            elif return_cat(file,category='entry_hf_1'):\n",
    "                current_image_address = os.path.join(src,file)\n",
    "                bse_en1 = tiff.imread(current_image_address)\n",
    "                current_image[:,:,1] = bse_en1\n",
    "            elif return_cat(file,category='exit_hf_0'):\n",
    "                current_image_address = os.path.join(src,file)\n",
    "                bse_ex0 = tiff.imread(current_image_address)\n",
    "                current_image[:,:,2] = bse_ex0\n",
    "            elif return_cat(file,category='exit_hf_1'):\n",
    "                current_image_address = os.path.join(src,file)\n",
    "                bse_ex1 = tiff.imread(current_image_address)\n",
    "                current_image[:,:,3] = bse_ex1\n",
    "            elif return_cat(file,category='normal'):\n",
    "                current_image_address = os.path.join(src,file)\n",
    "                normal = tiff.imread(current_image_address)\n",
    "                current_image[:,:,4:7] = normal\n",
    "            elif return_cat(file,category='gt'):\n",
    "                current_mask_address = os.path.join(src,file)\n",
    "                current_mask = tiff.imread(current_mask_address)\n",
    "            else: pass\n",
    "\n",
    "        current_image = current_image.astype(np.uint8)\n",
    "        current_image_name = image_path +'\\\\'+'exp'+ str(i%7)+'.tif'          \n",
    "        tiff.imwrite(current_image_name, np.transpose(current_image,(2,0,1)))\n",
    "\n",
    "        current_mask = current_mask.astype(np.uint8)\n",
    "        current_mask_name = masks_path +'\\\\'+'exp'+ str(i%7)+'.tif'          \n",
    "        tiff.imwrite(current_mask_name,current_mask)\n",
    "\n",
    "make_category_list(image_files)"
   ]
  }
 ],
 "metadata": {
  "kernelspec": {
   "display_name": "Python 3 (ipykernel)",
   "language": "python",
   "name": "python3"
  },
  "language_info": {
   "codemirror_mode": {
    "name": "ipython",
    "version": 3
   },
   "file_extension": ".py",
   "mimetype": "text/x-python",
   "name": "python",
   "nbconvert_exporter": "python",
   "pygments_lexer": "ipython3",
   "version": "3.8.10"
  }
 },
 "nbformat": 4,
 "nbformat_minor": 2
}
