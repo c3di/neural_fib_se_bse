{
 "cells": [
  {
   "cell_type": "markdown",
   "metadata": {},
   "source": [
    "### Import the pacakges"
   ]
  },
  {
   "cell_type": "code",
   "execution_count": 1,
   "metadata": {},
   "outputs": [],
   "source": [
    "from fastai.vision.all import * \n",
    "import tifffile as tiff\n",
    "from natsort import natsorted"
   ]
  },
  {
   "cell_type": "markdown",
   "metadata": {},
   "source": [
    "### Define the source directory for the raw data"
   ]
  },
  {
   "cell_type": "code",
   "execution_count": 2,
   "metadata": {},
   "outputs": [],
   "source": [
    "# Replace with your raw data folder \n",
    "src = '/home/susa03/post_project/post_dataset/synthetic_data/raw_data'"
   ]
  },
  {
   "cell_type": "markdown",
   "metadata": {},
   "source": [
    "### Define the destination directory and then create two subfolders for images and masks to store"
   ]
  },
  {
   "cell_type": "code",
   "execution_count": 3,
   "metadata": {},
   "outputs": [
    {
     "name": "stdout",
     "output_type": "stream",
     "text": [
      "BSE path: /home/susa03/post_project/post_dataset/synthetic_data/sorted_data/sphere/bse\n",
      "Mask path: /home/susa03/post_project/post_dataset/synthetic_data/sorted_data/sphere/masks\n"
     ]
    }
   ],
   "source": [
    "dst = '/home/susa03/post_project/post_dataset/synthetic_data/sorted_data/sphere'\n",
    "bse = 'bse'   \n",
    "masks = 'masks'     ### Store ground truth image\n",
    "os.makedirs(os.path.join(dst,bse), exist_ok=True)  # create destination folder if not exists\n",
    "os.makedirs(os.path.join(dst,masks), exist_ok=True)  # create destination folder if not exists\n",
    "\n",
    "# Get the full path of the created directory\n",
    "bse_path = os.path.join(dst, bse)\n",
    "print(\"BSE path:\", bse_path)\n",
    "\n",
    "masks_path = os.path.join(dst, masks)\n",
    "print(\"Mask path:\", masks_path)\n"
   ]
  },
  {
   "cell_type": "markdown",
   "metadata": {},
   "source": [
    "### Assess the image files and define the image height and width accordingly"
   ]
  },
  {
   "cell_type": "code",
   "execution_count": 4,
   "metadata": {},
   "outputs": [],
   "source": [
    "image_files = get_image_files(src, recurse=True)\n",
    "file_count = len(image_files)\n",
    "digit_count = len(str(file_count))\n",
    "image_height = 850\n",
    "image_width = 850"
   ]
  },
  {
   "cell_type": "markdown",
   "metadata": {},
   "source": [
    "### Define the fuctions to assess each images category wise and then store the bse images in the bse subfolder and the respective mask in the mask folder"
   ]
  },
  {
   "cell_type": "code",
   "execution_count": 5,
   "metadata": {},
   "outputs": [],
   "source": [
    "def return_cat(filename:str,category:str):\n",
    "    value = str(category) in str(filename)\n",
    "    return value\n",
    "   \n",
    "def make_category_list(filenames):\n",
    "    # Perform a natural sort on the image files by name\n",
    "    sorted_image_files = natsorted(filenames, key=lambda x: x.name)\n",
    "    # Iterate over the images in groups of 8\n",
    "    group_size = 8\n",
    "   \n",
    "    for i in range(0, len(sorted_image_files), group_size):\n",
    "        image_group = sorted_image_files[i:i+group_size]\n",
    "        bse_image= np.zeros((image_height, image_width))  \n",
    "        current_mask = np.zeros((image_height, image_width)) \n",
    "    \n",
    "        # Process the current group of images\n",
    "        for file in image_group:\n",
    "            if return_cat(file,category='_bse'):\n",
    "                bse_image_address = os.path.join(src,file)\n",
    "                bse_image = tiff.imread(bse_image_address)\n",
    "                bse_store_path = bse_path/Path(file.stem + file.suffix)\n",
    "                #print(bse_store_path)\n",
    "                tiff.imwrite(bse_store_path,np.array(bse_image,dtype=np.uint8))\n",
    "            elif return_cat(file,category='_gt'):\n",
    "                current_mask_address = os.path.join(src,file)\n",
    "                current_mask = tiff.imread(current_mask_address)\n",
    "                mask_store_path = masks_path/Path(file.stem + file.suffix)\n",
    "                #print(mask_store_path)\n",
    "                tiff.imwrite(mask_store_path,np.array(current_mask,dtype=np.uint8))\n",
    "            else: pass\n",
    "\n",
    "make_category_list(image_files)"
   ]
  }
 ],
 "metadata": {
  "kernelspec": {
   "display_name": "Python 3 (ipykernel)",
   "language": "python",
   "name": "python3"
  },
  "language_info": {
   "codemirror_mode": {
    "name": "ipython",
    "version": 3
   },
   "file_extension": ".py",
   "mimetype": "text/x-python",
   "name": "python",
   "nbconvert_exporter": "python",
   "pygments_lexer": "ipython3",
   "version": "3.8.10"
  }
 },
 "nbformat": 4,
 "nbformat_minor": 2
}
