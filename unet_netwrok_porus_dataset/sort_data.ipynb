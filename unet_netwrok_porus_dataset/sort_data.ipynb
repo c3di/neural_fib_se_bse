{
 "cells": [
  {
   "attachments": {},
   "cell_type": "markdown",
   "metadata": {},
   "source": [
    "### Import the pacakges"
   ]
  },
  {
   "cell_type": "code",
   "execution_count": 1,
   "metadata": {},
   "outputs": [],
   "source": [
    "from fastai.vision.all import * \n",
    "import tifffile as tiff"
   ]
  },
  {
   "attachments": {},
   "cell_type": "markdown",
   "metadata": {},
   "source": [
    "### Define the source directory for the raw data"
   ]
  },
  {
   "cell_type": "code",
   "execution_count": 2,
   "metadata": {},
   "outputs": [],
   "source": [
    "# Replace with your raw data folder \n",
    "src = 'C:/Users/susa03/Documents/Post_project/Dataset/synthetic_data/raw_data'"
   ]
  },
  {
   "attachments": {},
   "cell_type": "markdown",
   "metadata": {},
   "source": [
    "### Define the destination directory and then create four subfolders for BSE, SE, hyperstack_images and masks to store"
   ]
  },
  {
   "cell_type": "code",
   "execution_count": 6,
   "metadata": {},
   "outputs": [
    {
     "name": "stdout",
     "output_type": "stream",
     "text": [
      "BSE path: C:/Users/susa03/Documents/Post_project/Dataset/synthetic_data/sorted_data/bse\n",
      "SE path: C:/Users/susa03/Documents/Post_project/Dataset/synthetic_data/sorted_data/se\n",
      "Hyperstacked_Image path: C:/Users/susa03/Documents/Post_project/Dataset/synthetic_data/sorted_data/hyperstack\n",
      "Mask path: C:/Users/susa03/Documents/Post_project/Dataset/synthetic_data/sorted_data/masks\n"
     ]
    }
   ],
   "source": [
    "dst = 'C:/Users/susa03/Documents/Post_project/Dataset/synthetic_data/sorted_data/'\n",
    "bse = 'bse'   \n",
    "se = 'se'\n",
    "images = 'hyperstack'\n",
    "masks = 'masks'     ### Store ground truth image\n",
    "os.makedirs(os.path.join(dst,bse), exist_ok=True)  # create destination folder if not exists\n",
    "os.makedirs(os.path.join(dst,se), exist_ok=True)  # create destination folder if not exists\n",
    "os.makedirs(os.path.join(dst,images), exist_ok=True)  # create destination folder if not exists\n",
    "os.makedirs(os.path.join(dst,masks), exist_ok=True)  # create destination folder if not exists\n",
    "\n",
    "# Get the full path of the created directory\n",
    "bse_path = os.path.join(dst, bse)\n",
    "print(\"BSE path:\", bse_path)\n",
    "\n",
    "se_path = os.path.join(dst, se)\n",
    "print(\"SE path:\", se_path)\n",
    "\n",
    "image_path = os.path.join(dst, images)\n",
    "print(\"Hyperstacked_Image path:\", image_path)\n",
    "\n",
    "masks_path = os.path.join(dst, masks)\n",
    "print(\"Mask path:\", masks_path)\n"
   ]
  },
  {
   "attachments": {},
   "cell_type": "markdown",
   "metadata": {},
   "source": [
    "### Assess the image files and define the image height and width accordingly"
   ]
  },
  {
   "cell_type": "code",
   "execution_count": 4,
   "metadata": {},
   "outputs": [],
   "source": [
    "image_files = get_image_files(src)\n",
    "file_count = len(image_files)\n",
    "digit_count = len(str(file_count))\n",
    "image_height = 850\n",
    "image_width = 850"
   ]
  },
  {
   "attachments": {},
   "cell_type": "markdown",
   "metadata": {},
   "source": [
    "### Define the fuctions to assess each images category wise and then store as bse, se, hyperstack for the 7 channels in the hyperstack subfolder and the respective mask in the mask folder"
   ]
  },
  {
   "cell_type": "code",
   "execution_count": 5,
   "metadata": {},
   "outputs": [],
   "source": [
    "def return_cat(filename:str,category:str):\n",
    "    value = str(category) in str(filename)\n",
    "    return value\n",
    "   \n",
    "def make_category_list(filenames):\n",
    " \n",
    "    # Iterate over the images in groups of 8\n",
    "    group_size = 8\n",
    "    count = 0\n",
    "    for i in range(0, len(image_files), group_size):\n",
    "        image_group = image_files[i:i+group_size]\n",
    "        bse_image= np.zeros((image_height, image_width)) \n",
    "        se_image= np.zeros((image_height, image_width)) \n",
    "        hyperstack_image= np.zeros((image_height, image_width,7)) \n",
    "        current_mask = np.zeros((image_height, image_width)) \n",
    "    \n",
    "        # Process the current group of images\n",
    "        for file in image_group:\n",
    "            if return_cat(file,category='_bse'):\n",
    "                bse_image_address = os.path.join(src,file)\n",
    "                bse_image = tiff.imread(bse_image_address)\n",
    "            if return_cat(file,category='_se'):\n",
    "                se_image_address = os.path.join(src,file)\n",
    "                se_image = tiff.imread(se_image_address) \n",
    "            if return_cat(file,category='entry_hf_0'):\n",
    "                hyperstack_image_address = os.path.join(src,file)\n",
    "                bse_en0 = tiff.imread(hyperstack_image_address)\n",
    "                hyperstack_image[:,:,0] = bse_en0\n",
    "\n",
    "            elif return_cat(file,category='entry_hf_1'):\n",
    "                hyperstack_image_address = os.path.join(src,file)\n",
    "                bse_en1 = tiff.imread(hyperstack_image_address)\n",
    "                hyperstack_image[:,:,1] = bse_en1\n",
    "\n",
    "            elif return_cat(file,category='exit_hf_0'):\n",
    "                hyperstack_image_address = os.path.join(src,file)\n",
    "                bse_ex0 = tiff.imread(hyperstack_image_address)\n",
    "                hyperstack_image[:,:,2] = bse_ex0\n",
    "\n",
    "            elif return_cat(file,category='exit_hf_1'):\n",
    "                hyperstack_image_address = os.path.join(src,file)\n",
    "                bse_ex1 = tiff.imread(hyperstack_image_address)\n",
    "                hyperstack_image[:,:,3] = bse_ex1\n",
    "\n",
    "            elif return_cat(file,category='normal'):\n",
    "                hyperstack_image_address = os.path.join(src,file)\n",
    "                normal = tiff.imread(hyperstack_image_address)\n",
    "                hyperstack_image[:,:,4:7] = normal\n",
    "             \n",
    "            elif return_cat(file,category='gt'):\n",
    "                current_mask_address = os.path.join(src,file)\n",
    "                current_mask = tiff.imread(current_mask_address)\n",
    "                count= count+1\n",
    "            else: pass\n",
    "\n",
    "        bse_image = bse_image.astype(np.uint8)\n",
    "        bse_image_name = bse_path + '\\\\' + f\"{count:0{digit_count}d}.tif\"         \n",
    "        tiff.imwrite(bse_image_name, bse_image)\n",
    "\n",
    "        se_image = se_image.astype(np.uint8)\n",
    "        se_image_name = se_path + '\\\\' + f\"{count:0{digit_count}d}.tif\"         \n",
    "        tiff.imwrite(se_image_name, se_image)\n",
    "\n",
    "        hyperstack_image = hyperstack_image.astype(np.uint8)\n",
    "        hyperstack_image_name = image_path + '\\\\' + f\"{count:0{digit_count}d}.tif\"         \n",
    "        tiff.imwrite(hyperstack_image_name, np.transpose(hyperstack_image,(2,0,1)))\n",
    "\n",
    "        current_mask = current_mask.astype(np.uint8)\n",
    "        current_mask_name = masks_path + '\\\\' + f\"{count:0{digit_count}d}.tif\"          \n",
    "        tiff.imwrite(current_mask_name,current_mask)\n",
    "\n",
    "make_category_list(image_files)"
   ]
  }
 ],
 "metadata": {
  "kernelspec": {
   "display_name": "env",
   "language": "python",
   "name": "python3"
  },
  "language_info": {
   "codemirror_mode": {
    "name": "ipython",
    "version": 3
   },
   "file_extension": ".py",
   "mimetype": "text/x-python",
   "name": "python",
   "nbconvert_exporter": "python",
   "pygments_lexer": "ipython3",
   "version": "3.10.11"
  },
  "orig_nbformat": 4
 },
 "nbformat": 4,
 "nbformat_minor": 2
}
